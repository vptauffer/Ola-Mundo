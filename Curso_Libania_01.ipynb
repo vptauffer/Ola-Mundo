{
  "nbformat": 4,
  "nbformat_minor": 0,
  "metadata": {
    "colab": {
      "name": "Curso_Libania-01.ipynb",
      "provenance": [],
      "collapsed_sections": [],
      "authorship_tag": "ABX9TyPRoWRIskbxd57rr9CaN0Nj",
      "include_colab_link": true
    },
    "kernelspec": {
      "name": "python3",
      "display_name": "Python 3"
    },
    "language_info": {
      "name": "python"
    }
  },
  "cells": [
    {
      "cell_type": "markdown",
      "metadata": {
        "id": "view-in-github",
        "colab_type": "text"
      },
      "source": [
        "<a href=\"https://colab.research.google.com/github/vptauffer/Ola-Mundo/blob/master/Curso_Libania_01.ipynb\" target=\"_parent\"><img src=\"https://colab.research.google.com/assets/colab-badge.svg\" alt=\"Open In Colab\"/></a>"
      ]
    },
    {
      "cell_type": "code",
      "metadata": {
        "id": "f1_wjmt5l62V"
      },
      "source": [
        "nome = 'Vilson'\n",
        "num = '12345'\n",
        "\n",
        "numInt = 12345\n",
        "numFloat = 12.4\n",
        "\n",
        "dadoBooleano = True\n",
        "\n",
        "telefones = ['99999','99999-98877','99999889']"
      ],
      "execution_count": null,
      "outputs": []
    }
  ]
}