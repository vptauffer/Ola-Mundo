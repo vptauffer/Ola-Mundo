{
  "nbformat": 4,
  "nbformat_minor": 0,
  "metadata": {
    "colab": {
      "name": "Curso_Libania-03.ipynb",
      "provenance": [],
      "collapsed_sections": [],
      "authorship_tag": "ABX9TyNXfcP+o8GJ3bBQQdJQZ239",
      "include_colab_link": true
    },
    "kernelspec": {
      "name": "python3",
      "display_name": "Python 3"
    },
    "language_info": {
      "name": "python"
    }
  },
  "cells": [
    {
      "cell_type": "markdown",
      "metadata": {
        "id": "view-in-github",
        "colab_type": "text"
      },
      "source": [
        "<a href=\"https://colab.research.google.com/github/vptauffer/Ola-Mundo/blob/master/Curso_Libania_03.ipynb\" target=\"_parent\"><img src=\"https://colab.research.google.com/assets/colab-badge.svg\" alt=\"Open In Colab\"/></a>"
      ]
    },
    {
      "cell_type": "code",
      "metadata": {
        "colab": {
          "base_uri": "https://localhost:8080/",
          "height": 386
        },
        "id": "7UTHu-C68xk9",
        "outputId": "93089d8a-8e0a-4a4a-c1d0-0c0ae522860f"
      },
      "source": [
        "import pandas as pd\n",
        "dados = pd.read_excel('http://profalibania.com.br/ds/secao04video05.xlsx')\n",
        "\n",
        "dados\n",
        "\n",
        "# queremos ordenar e checar os 5 países que mais gastam per capita\n",
        "\n",
        "paises = dados.sort_values(by=['Gasto per capita'],ascending=False)\n",
        "display(paises.head(5)) # os 5 primeiros\n",
        "display(paises.tail(5)) # os 5 últimos"
      ],
      "execution_count": 54,
      "outputs": [
        {
          "output_type": "display_data",
          "data": {
            "text/html": [
              "<div>\n",
              "<style scoped>\n",
              "    .dataframe tbody tr th:only-of-type {\n",
              "        vertical-align: middle;\n",
              "    }\n",
              "\n",
              "    .dataframe tbody tr th {\n",
              "        vertical-align: top;\n",
              "    }\n",
              "\n",
              "    .dataframe thead th {\n",
              "        text-align: right;\n",
              "    }\n",
              "</style>\n",
              "<table border=\"1\" class=\"dataframe\">\n",
              "  <thead>\n",
              "    <tr style=\"text-align: right;\">\n",
              "      <th></th>\n",
              "      <th>País</th>\n",
              "      <th>% PIB</th>\n",
              "      <th>Gasto per capita</th>\n",
              "      <th>Pop em milhões</th>\n",
              "    </tr>\n",
              "  </thead>\n",
              "  <tbody>\n",
              "    <tr>\n",
              "      <th>48</th>\n",
              "      <td>United States</td>\n",
              "      <td>16.937</td>\n",
              "      <td>10586.08</td>\n",
              "      <td>327167.0</td>\n",
              "    </tr>\n",
              "    <tr>\n",
              "      <th>45</th>\n",
              "      <td>Switzerland</td>\n",
              "      <td>12.183</td>\n",
              "      <td>7316.60</td>\n",
              "      <td>8513.0</td>\n",
              "    </tr>\n",
              "    <tr>\n",
              "      <th>35</th>\n",
              "      <td>Norway</td>\n",
              "      <td>10.182</td>\n",
              "      <td>6186.92</td>\n",
              "      <td>5312.0</td>\n",
              "    </tr>\n",
              "    <tr>\n",
              "      <th>17</th>\n",
              "      <td>Germany</td>\n",
              "      <td>11.229</td>\n",
              "      <td>5986.43</td>\n",
              "      <td>82914.0</td>\n",
              "    </tr>\n",
              "    <tr>\n",
              "      <th>44</th>\n",
              "      <td>Sweden</td>\n",
              "      <td>11.037</td>\n",
              "      <td>5447.11</td>\n",
              "      <td>10175.0</td>\n",
              "    </tr>\n",
              "  </tbody>\n",
              "</table>\n",
              "</div>"
            ],
            "text/plain": [
              "             País   % PIB  Gasto per capita  Pop em milhões\n",
              "48  United States  16.937          10586.08        327167.0\n",
              "45    Switzerland  12.183           7316.60          8513.0\n",
              "35         Norway  10.182           6186.92          5312.0\n",
              "17        Germany  11.229           5986.43         82914.0\n",
              "44         Sweden  11.037           5447.11         10175.0"
            ]
          },
          "metadata": {
            "tags": []
          }
        },
        {
          "output_type": "display_data",
          "data": {
            "text/html": [
              "<div>\n",
              "<style scoped>\n",
              "    .dataframe tbody tr th:only-of-type {\n",
              "        vertical-align: middle;\n",
              "    }\n",
              "\n",
              "    .dataframe tbody tr th {\n",
              "        vertical-align: top;\n",
              "    }\n",
              "\n",
              "    .dataframe thead th {\n",
              "        text-align: right;\n",
              "    }\n",
              "</style>\n",
              "<table border=\"1\" class=\"dataframe\">\n",
              "  <thead>\n",
              "    <tr style=\"text-align: right;\">\n",
              "      <th></th>\n",
              "      <th>País</th>\n",
              "      <th>% PIB</th>\n",
              "      <th>Gasto per capita</th>\n",
              "      <th>Pop em milhões</th>\n",
              "    </tr>\n",
              "  </thead>\n",
              "  <tbody>\n",
              "    <tr>\n",
              "      <th>42</th>\n",
              "      <td>South Africa</td>\n",
              "      <td>8.094</td>\n",
              "      <td>1071.56</td>\n",
              "      <td>57726.000</td>\n",
              "    </tr>\n",
              "    <tr>\n",
              "      <th>8</th>\n",
              "      <td>Colombia</td>\n",
              "      <td>7.226</td>\n",
              "      <td>960.17</td>\n",
              "      <td>49834.000</td>\n",
              "    </tr>\n",
              "    <tr>\n",
              "      <th>7</th>\n",
              "      <td>China</td>\n",
              "      <td>5.019</td>\n",
              "      <td>688.00</td>\n",
              "      <td>1415.046</td>\n",
              "    </tr>\n",
              "    <tr>\n",
              "      <th>22</th>\n",
              "      <td>Indonesia</td>\n",
              "      <td>3.126</td>\n",
              "      <td>300.55</td>\n",
              "      <td>265015.000</td>\n",
              "    </tr>\n",
              "    <tr>\n",
              "      <th>21</th>\n",
              "      <td>India</td>\n",
              "      <td>3.621</td>\n",
              "      <td>208.77</td>\n",
              "      <td>1354.052</td>\n",
              "    </tr>\n",
              "  </tbody>\n",
              "</table>\n",
              "</div>"
            ],
            "text/plain": [
              "            País  % PIB  Gasto per capita  Pop em milhões\n",
              "42  South Africa  8.094           1071.56       57726.000\n",
              "8       Colombia  7.226            960.17       49834.000\n",
              "7          China  5.019            688.00        1415.046\n",
              "22     Indonesia  3.126            300.55      265015.000\n",
              "21         India  3.621            208.77        1354.052"
            ]
          },
          "metadata": {
            "tags": []
          }
        }
      ]
    }
  ]
}