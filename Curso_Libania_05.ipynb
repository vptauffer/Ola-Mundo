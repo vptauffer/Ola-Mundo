{
  "nbformat": 4,
  "nbformat_minor": 0,
  "metadata": {
    "colab": {
      "name": "Curso_Libania-05.ipynb",
      "provenance": [],
      "collapsed_sections": [],
      "authorship_tag": "ABX9TyNzgtajISrwewZPMPru55Ee",
      "include_colab_link": true
    },
    "kernelspec": {
      "name": "python3",
      "display_name": "Python 3"
    },
    "language_info": {
      "name": "python"
    }
  },
  "cells": [
    {
      "cell_type": "markdown",
      "metadata": {
        "id": "view-in-github",
        "colab_type": "text"
      },
      "source": [
        "<a href=\"https://colab.research.google.com/github/vptauffer/Ola-Mundo/blob/master/Curso_Libania_05.ipynb\" target=\"_parent\"><img src=\"https://colab.research.google.com/assets/colab-badge.svg\" alt=\"Open In Colab\"/></a>"
      ]
    },
    {
      "cell_type": "code",
      "metadata": {
        "colab": {
          "base_uri": "https://localhost:8080/"
        },
        "id": "E4m0_1G0CnE8",
        "outputId": "e8e13408-116d-4d32-a182-7e79e8ca42cb"
      },
      "source": [
        "import pandas as pd\n",
        "dados = pd.read_excel('http://profalibania.com.br/ds/secao05video01.xlsx')\n",
        "\n",
        "quantPacientes = dados.count()\n",
        "print(quantPacientes)\n",
        "\n",
        "mediaIdade = dados['Idade'].mean()\n",
        "mediaIdade = round(mediaIdade,2)  #para deixar o numero com 2 casas decimais\n",
        "print(mediaIdade)\n",
        "\n",
        "print(dados['Idade'].max())\n",
        "print(dados['Idade'].min())\n",
        "print(dados['Idade'].median())\n",
        "\n",
        "print('Quartil 1 - 25%')\n",
        "print(dados['Idade'].quantile(0.25))\n",
        "\n",
        "print('Quartil 3 - 75%')\n",
        "print(dados['Idade'].quantile(0.75))\n",
        "\n",
        "print('Desvio Padrão')\n",
        "print(dados['Idade'].std())\n",
        "\n",
        "#Ou podemos ver vários parâmetros de uma só vez:\n",
        "\n",
        "dados['Idade'].describe()"
      ],
      "execution_count": 75,
      "outputs": [
        {
          "output_type": "stream",
          "text": [
            "Data                    9931\n",
            "Número do prontuário    9931\n",
            "Dia da semana           9931\n",
            "Sexo                    9931\n",
            "Idade                   9931\n",
            "dtype: int64\n",
            "54.02\n",
            "95\n",
            "0\n",
            "57.0\n",
            "Quartil 1 - 25%\n",
            "35.0\n",
            "Quartil 3 - 75%\n",
            "76.0\n",
            "Desvio Padrão\n",
            "27.060472638004136\n"
          ],
          "name": "stdout"
        },
        {
          "output_type": "execute_result",
          "data": {
            "text/plain": [
              "count    9931.000000\n",
              "mean       54.017521\n",
              "std        27.060473\n",
              "min         0.000000\n",
              "25%        35.000000\n",
              "50%        57.000000\n",
              "75%        76.000000\n",
              "max        95.000000\n",
              "Name: Idade, dtype: float64"
            ]
          },
          "metadata": {
            "tags": []
          },
          "execution_count": 75
        }
      ]
    }
  ]
}