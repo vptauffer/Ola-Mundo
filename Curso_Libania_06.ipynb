{
  "nbformat": 4,
  "nbformat_minor": 0,
  "metadata": {
    "colab": {
      "name": "Curso_Libania-06.ipynb",
      "provenance": [],
      "collapsed_sections": [],
      "authorship_tag": "ABX9TyOwR2UsqlBZ6EOXTrtiioiM",
      "include_colab_link": true
    },
    "kernelspec": {
      "name": "python3",
      "display_name": "Python 3"
    },
    "language_info": {
      "name": "python"
    }
  },
  "cells": [
    {
      "cell_type": "markdown",
      "metadata": {
        "id": "view-in-github",
        "colab_type": "text"
      },
      "source": [
        "<a href=\"https://colab.research.google.com/github/vptauffer/Ola-Mundo/blob/master/Curso_Libania_06.ipynb\" target=\"_parent\"><img src=\"https://colab.research.google.com/assets/colab-badge.svg\" alt=\"Open In Colab\"/></a>"
      ]
    },
    {
      "cell_type": "code",
      "metadata": {
        "colab": {
          "base_uri": "https://localhost:8080/"
        },
        "id": "E4m0_1G0CnE8",
        "outputId": "0509a975-e95c-4f7e-8376-2ab8cbdfa7e3"
      },
      "source": [
        "import pandas as pd\n",
        "dados = pd.read_excel('http://profalibania.com.br/ds/secao05video01.xlsx')\n",
        "\n",
        "#agrupar dados por categorias\n",
        "analise = dados.groupby('Sexo').count()\n",
        "print(analise)\n",
        "analise = dados.groupby('Sexo').mean()\n",
        "print(analise)\n",
        "\n",
        "# Posso limitar as colunas a serem exibidas:\n",
        "analise = dados[['Sexo','Idade']].groupby('Sexo').count()\n",
        "print(analise)\n"
      ],
      "execution_count": 78,
      "outputs": [
        {
          "output_type": "stream",
          "text": [
            "      Data  Número do prontuário  Dia da semana  Idade\n",
            "Sexo                                                  \n",
            "F     5731                  5731           5731   5731\n",
            "M     4200                  4200           4200   4200\n",
            "      Número do prontuário      Idade\n",
            "Sexo                                 \n",
            "F             1.905519e+07  53.887280\n",
            "M             1.905466e+07  54.195238\n",
            "      Idade\n",
            "Sexo       \n",
            "F      5731\n",
            "M      4200\n"
          ],
          "name": "stdout"
        }
      ]
    },
    {
      "cell_type": "code",
      "metadata": {
        "id": "qz4NPFhgHxPe"
      },
      "source": [
        ""
      ],
      "execution_count": null,
      "outputs": []
    }
  ]
}