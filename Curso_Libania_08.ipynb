{
  "nbformat": 4,
  "nbformat_minor": 0,
  "metadata": {
    "colab": {
      "name": "Curso_Libania_08.ipynb",
      "provenance": [],
      "collapsed_sections": [],
      "authorship_tag": "ABX9TyPQfbzlzTT9RNmu/ILQmtx+",
      "include_colab_link": true
    },
    "kernelspec": {
      "name": "python3",
      "display_name": "Python 3"
    },
    "language_info": {
      "name": "python"
    }
  },
  "cells": [
    {
      "cell_type": "markdown",
      "metadata": {
        "id": "view-in-github",
        "colab_type": "text"
      },
      "source": [
        "<a href=\"https://colab.research.google.com/github/vptauffer/Ola-Mundo/blob/master/Curso_Libania_08.ipynb\" target=\"_parent\"><img src=\"https://colab.research.google.com/assets/colab-badge.svg\" alt=\"Open In Colab\"/></a>"
      ]
    },
    {
      "cell_type": "code",
      "metadata": {
        "colab": {
          "base_uri": "https://localhost:8080/",
          "height": 624
        },
        "id": "Q2KjQBaxZIS1",
        "outputId": "2e35b070-3f11-4fa7-d4da-2a3a9926db1b"
      },
      "source": [
        "import pandas as pd\n",
        "dados = pd.read_excel('http://profalibania.com.br/ds/secao05video04.xlsx')\n",
        "\n",
        "# avaliando correlação entre os dados - análise bivariada: (mesmo entre números que não se relacionam - por exemplo número de refugiados e consumo de sorvete SIC)\n",
        "\n",
        "print(dados.corr())\n",
        "\n",
        "meuGrafico = dados.plot.scatter(x='OpI',y='DcI',c=\"Blue\")  # scatter = gráfico de dispersão  / o argumento c pode ser cor\n",
        "\n",
        "# mas pode ser também outra variável, por exemplo Ano, e usar um mapa de cores depois:\n",
        "\n",
        "meuGrafico = dados.plot.scatter(x='OpI',y='DcI',c=\"Ano\",colormap='summer')\n"
      ],
      "execution_count": 7,
      "outputs": [
        {
          "output_type": "stream",
          "text": [
            "          Ano       OpI       DcI       RnF       IcC\n",
            "Ano  1.000000  0.992229  0.990205  0.985798 -0.934969\n",
            "OpI  0.992229  1.000000  0.978685  0.977237 -0.935957\n",
            "DcI  0.990205  0.978685  1.000000  0.988851 -0.937161\n",
            "RnF  0.985798  0.977237  0.988851  1.000000 -0.945024\n",
            "IcC -0.934969 -0.935957 -0.937161 -0.945024  1.000000\n"
          ],
          "name": "stdout"
        },
        {
          "output_type": "display_data",
          "data": {
            "image/png": "[encoded data removed]",
            "text/plain": [
              "<Figure size 432x288 with 1 Axes>"
            ]
          },
          "metadata": {
            "tags": [],
            "needs_background": "light"
          }
        },
        {
          "output_type": "display_data",
          "data": {
            "image/png": "[encoded data removed]",
            "text/plain": [
              "<Figure size 432x288 with 2 Axes>"
            ]
          },
          "metadata": {
            "tags": [],
            "needs_background": "light"
          }
        }
      ]
    },
    {
      "cell_type": "code",
      "metadata": {
        "colab": {
          "base_uri": "https://localhost:8080/"
        },
        "id": "wZdQH6dvcZ03",
        "outputId": "78386869-9379-4b19-a2df-9bd68997687b"
      },
      "source": [
        "# criando uma função\n",
        "def minhaFuncao(meuValor):\n",
        "  print('qualquer coisa - dentro da função')\n",
        "print('fora da função')  \n",
        "\n",
        "minhaFuncao(10)"
      ],
      "execution_count": 9,
      "outputs": [
        {
          "output_type": "stream",
          "text": [
            "fora da função\n",
            "qualquer coisa - dentro da função\n"
          ],
          "name": "stdout"
        }
      ]
    },
    {
      "cell_type": "code",
      "metadata": {
        "colab": {
          "base_uri": "https://localhost:8080/"
        },
        "id": "4e__CVjBdN_s",
        "outputId": "2bddf164-6b9c-49de-a2b4-d3c580e354d1"
      },
      "source": [
        "def minhaFuncao(meuValor):\n",
        "  resultado = meuValor * 10\n",
        "  return resultado\n",
        "\n",
        "b = minhaFuncao(5)\n",
        "print(b)"
      ],
      "execution_count": 12,
      "outputs": [
        {
          "output_type": "stream",
          "text": [
            "50\n"
          ],
          "name": "stdout"
        }
      ]
    },
    {
      "cell_type": "code",
      "metadata": {
        "colab": {
          "base_uri": "https://localhost:8080/"
        },
        "id": "cdgKstIPd3bJ",
        "outputId": "a8782c4f-94c7-4286-a53b-fa991d84dfb3"
      },
      "source": [
        "def soma(a,b):\n",
        "  soma = a+b\n",
        "  return soma\n",
        "\n",
        "print(soma(2,6))"
      ],
      "execution_count": 13,
      "outputs": [
        {
          "output_type": "stream",
          "text": [
            "8\n"
          ],
          "name": "stdout"
        }
      ]
    },
    {
      "cell_type": "code",
      "metadata": {
        "colab": {
          "base_uri": "https://localhost:8080/"
        },
        "id": "maLfVIX-eQq5",
        "outputId": "e65117be-58e1-4fe4-e631-ea9e9f42fa02"
      },
      "source": [
        "# forma resumida de criar funções\n",
        "a = lambda num : num * 10   # lambda indica para o python que vocês está fazendo uma função resumida. Neste caso não precisa nomear a função\n",
        "print(a(5))\n",
        "\n",
        "b = lambda num : num + 5\n",
        "print(b(5))\n",
        "\n",
        "soma = lambda a,b : a + b\n",
        "print(soma(2,7))"
      ],
      "execution_count": 16,
      "outputs": [
        {
          "output_type": "stream",
          "text": [
            "50\n",
            "10\n",
            "9\n"
          ],
          "name": "stdout"
        }
      ]
    },
    {
      "cell_type": "code",
      "metadata": {
        "colab": {
          "base_uri": "https://localhost:8080/",
          "height": 496
        },
        "id": "MfMbvq4BfnS6",
        "outputId": "4c723d71-7db7-47a0-eb5f-d0a14347d4ec"
      },
      "source": [
        "# trabalhando dados proporcionais\n",
        "import pandas as pd\n",
        "dados = pd.read_excel('http://profalibania.com.br/ds/secao05video06.xlsx')\n",
        "print(dados)\n",
        "# em outro dataframe os dados originais agrupados\n",
        "dados2 = dados.groupby(['Reclamação de Atraso','Exame']).count() # exibe só a contagem simpes de todas as colunas do dataframe (não é bem isso que queremos)\n",
        "dados2"
      ],
      "execution_count": 23,
      "outputs": [
        {
          "output_type": "stream",
          "text": [
            "           Data      Hora  ... Tempo de Liberação Período Solicitação\n",
            "0    2025-05-01  10:05:00  ...                231               manhã\n",
            "1    2025-05-01  10:26:00  ...                189               manhã\n",
            "2    2025-05-01  16:08:00  ...                212               tarde\n",
            "3    2025-05-01  17:47:00  ...                281               tarde\n",
            "4    2025-05-01  18:45:00  ...                224               noite\n",
            "...         ...       ...  ...                ...                 ...\n",
            "1876 2025-05-31  13:51:00  ...                249               tarde\n",
            "1877 2025-05-31  14:16:00  ...                192               tarde\n",
            "1878 2025-05-31  15:11:00  ...                235               tarde\n",
            "1879 2025-05-31  18:24:00  ...                223               noite\n",
            "1880 2025-05-31  09:00:00  ...                202               manhã\n",
            "\n",
            "[1881 rows x 8 columns]\n"
          ],
          "name": "stdout"
        },
        {
          "output_type": "execute_result",
          "data": {
            "text/html": [
              "<div>\n",
              "<style scoped>\n",
              "    .dataframe tbody tr th:only-of-type {\n",
              "        vertical-align: middle;\n",
              "    }\n",
              "\n",
              "    .dataframe tbody tr th {\n",
              "        vertical-align: top;\n",
              "    }\n",
              "\n",
              "    .dataframe thead th {\n",
              "        text-align: right;\n",
              "    }\n",
              "</style>\n",
              "<table border=\"1\" class=\"dataframe\">\n",
              "  <thead>\n",
              "    <tr style=\"text-align: right;\">\n",
              "      <th></th>\n",
              "      <th></th>\n",
              "      <th>Data</th>\n",
              "      <th>Hora</th>\n",
              "      <th>Origem</th>\n",
              "      <th>Equipe Lab</th>\n",
              "      <th>Tempo de Liberação</th>\n",
              "      <th>Período Solicitação</th>\n",
              "    </tr>\n",
              "    <tr>\n",
              "      <th>Reclamação de Atraso</th>\n",
              "      <th>Exame</th>\n",
              "      <th></th>\n",
              "      <th></th>\n",
              "      <th></th>\n",
              "      <th></th>\n",
              "      <th></th>\n",
              "      <th></th>\n",
              "    </tr>\n",
              "  </thead>\n",
              "  <tbody>\n",
              "    <tr>\n",
              "      <th rowspan=\"3\" valign=\"top\">não</th>\n",
              "      <th>CREATININA</th>\n",
              "      <td>247</td>\n",
              "      <td>247</td>\n",
              "      <td>247</td>\n",
              "      <td>247</td>\n",
              "      <td>247</td>\n",
              "      <td>247</td>\n",
              "    </tr>\n",
              "    <tr>\n",
              "      <th>GLICEMIA</th>\n",
              "      <td>332</td>\n",
              "      <td>332</td>\n",
              "      <td>332</td>\n",
              "      <td>332</td>\n",
              "      <td>332</td>\n",
              "      <td>332</td>\n",
              "    </tr>\n",
              "    <tr>\n",
              "      <th>HEMOGRAMA COMPLETO</th>\n",
              "      <td>816</td>\n",
              "      <td>816</td>\n",
              "      <td>816</td>\n",
              "      <td>816</td>\n",
              "      <td>816</td>\n",
              "      <td>816</td>\n",
              "    </tr>\n",
              "    <tr>\n",
              "      <th rowspan=\"3\" valign=\"top\">sim</th>\n",
              "      <th>CREATININA</th>\n",
              "      <td>56</td>\n",
              "      <td>56</td>\n",
              "      <td>56</td>\n",
              "      <td>56</td>\n",
              "      <td>56</td>\n",
              "      <td>56</td>\n",
              "    </tr>\n",
              "    <tr>\n",
              "      <th>GLICEMIA</th>\n",
              "      <td>162</td>\n",
              "      <td>162</td>\n",
              "      <td>162</td>\n",
              "      <td>162</td>\n",
              "      <td>162</td>\n",
              "      <td>162</td>\n",
              "    </tr>\n",
              "    <tr>\n",
              "      <th>HEMOGRAMA COMPLETO</th>\n",
              "      <td>268</td>\n",
              "      <td>268</td>\n",
              "      <td>268</td>\n",
              "      <td>268</td>\n",
              "      <td>268</td>\n",
              "      <td>268</td>\n",
              "    </tr>\n",
              "  </tbody>\n",
              "</table>\n",
              "</div>"
            ],
            "text/plain": [
              "                                         Data  ...  Período Solicitação\n",
              "Reclamação de Atraso Exame                     ...                     \n",
              "não                  CREATININA           247  ...                  247\n",
              "                     GLICEMIA             332  ...                  332\n",
              "                     HEMOGRAMA COMPLETO   816  ...                  816\n",
              "sim                  CREATININA            56  ...                   56\n",
              "                     GLICEMIA             162  ...                  162\n",
              "                     HEMOGRAMA COMPLETO   268  ...                  268\n",
              "\n",
              "[6 rows x 6 columns]"
            ]
          },
          "metadata": {
            "tags": []
          },
          "execution_count": 23
        }
      ]
    },
    {
      "cell_type": "code",
      "metadata": {
        "colab": {
          "base_uri": "https://localhost:8080/",
          "height": 1000
        },
        "id": "0mPIuTmAgyU2",
        "outputId": "447283b7-701a-4777-fb22-63d97a3e9b26"
      },
      "source": [
        "dados2 = dados.groupby(['Reclamação de Atraso','Exame'])\n",
        "dados2tl = dados2.agg({'Reclamação de Atraso':'count', 'Tempo de Liberação':'mean'})  #função agg (agregate) - qual a coluna que vou usar e : qual o tipo de consolidação que posso fazer (contagem, média etc)\n",
        "print(dados2tl)\n",
        "dados2 = dados2.agg({'Reclamação de Atraso':'count'})\n",
        "print(dados2)\n",
        "\n",
        "# Em numeros absolutos sabemos qual exame teve mais reclamação\n",
        "# Mas queremos saber em relação ao total de cada grupo de exames, qual teve mais reclamação:\n",
        "dados3 = dados2.apply(lambda x : x/float(x.sum()) * 100)    # apply vai aplicar um valor novo dentro do dataframe\n",
        "# para cada valor x, o cálculo será de x dividido pela soma do grupo (aqui ainda é não e sim tudo junto) * 100 para dar em porcentagem\n",
        "print(dados3)\n",
        "\n",
        "# mas queremos separadamente cada grupo (não e sim respectivamente)\n",
        "# da maneira que está, é como se os grupamentos fossem a \"tabela dinâmica\" do excel\n",
        "# para isso precisamos formar uma matriz (jogar o não e sim em linhas e nas colunas os tipos de exames e os cálculos) =   função desempilhar\n",
        "\n",
        "dados2 = dados2.unstack()\n",
        "dados3 = dados2.apply(lambda x : x/float(x.sum()) * 100)   \n",
        "# mas assim o cálculo total por colunas ainda não é o que queremos (é a totalidade de reclamações e não totalidade de exames)\n",
        "display(dados3)\n",
        "\n",
        "\n",
        "dados4 = dados2.apply(lambda x : x/float(x.sum()) * 100, axis=1)  # axis 1 manda fazer os cálculos em relação às linhas\n",
        "display(dados4)\n",
        "\n",
        "dados3.plot(kind='bar')\n",
        "dados4.plot(kind='bar')\n",
        "#pelos gráficos é possível ver que as análises são muito diferentes em relação ao que estou analisando\n",
        "\n"
      ],
      "execution_count": 43,
      "outputs": [
        {
          "output_type": "stream",
          "text": [
            "                                         Reclamação de Atraso  Tempo de Liberação\n",
            "Reclamação de Atraso Exame                                                       \n",
            "não                  CREATININA                           247          236.255061\n",
            "                     GLICEMIA                             332          225.292169\n",
            "                     HEMOGRAMA COMPLETO                   816          215.669118\n",
            "sim                  CREATININA                            56          240.303571\n",
            "                     GLICEMIA                             162          221.827160\n",
            "                     HEMOGRAMA COMPLETO                   268          216.940299\n",
            "                                         Reclamação de Atraso\n",
            "Reclamação de Atraso Exame                                   \n",
            "não                  CREATININA                           247\n",
            "                     GLICEMIA                             332\n",
            "                     HEMOGRAMA COMPLETO                   816\n",
            "sim                  CREATININA                            56\n",
            "                     GLICEMIA                             162\n",
            "                     HEMOGRAMA COMPLETO                   268\n",
            "                                         Reclamação de Atraso\n",
            "Reclamação de Atraso Exame                                   \n",
            "não                  CREATININA                     13.131313\n",
            "                     GLICEMIA                       17.650186\n",
            "                     HEMOGRAMA COMPLETO             43.381180\n",
            "sim                  CREATININA                      2.977140\n",
            "                     GLICEMIA                        8.612440\n",
            "                     HEMOGRAMA COMPLETO             14.247741\n"
          ],
          "name": "stdout"
        },
        {
          "output_type": "display_data",
          "data": {
            "text/html": [
              "<div>\n",
              "<style scoped>\n",
              "    .dataframe tbody tr th:only-of-type {\n",
              "        vertical-align: middle;\n",
              "    }\n",
              "\n",
              "    .dataframe tbody tr th {\n",
              "        vertical-align: top;\n",
              "    }\n",
              "\n",
              "    .dataframe thead tr th {\n",
              "        text-align: left;\n",
              "    }\n",
              "\n",
              "    .dataframe thead tr:last-of-type th {\n",
              "        text-align: right;\n",
              "    }\n",
              "</style>\n",
              "<table border=\"1\" class=\"dataframe\">\n",
              "  <thead>\n",
              "    <tr>\n",
              "      <th></th>\n",
              "      <th colspan=\"3\" halign=\"left\">Reclamação de Atraso</th>\n",
              "    </tr>\n",
              "    <tr>\n",
              "      <th>Exame</th>\n",
              "      <th>CREATININA</th>\n",
              "      <th>GLICEMIA</th>\n",
              "      <th>HEMOGRAMA COMPLETO</th>\n",
              "    </tr>\n",
              "    <tr>\n",
              "      <th>Reclamação de Atraso</th>\n",
              "      <th></th>\n",
              "      <th></th>\n",
              "      <th></th>\n",
              "    </tr>\n",
              "  </thead>\n",
              "  <tbody>\n",
              "    <tr>\n",
              "      <th>não</th>\n",
              "      <td>81.518152</td>\n",
              "      <td>67.206478</td>\n",
              "      <td>75.276753</td>\n",
              "    </tr>\n",
              "    <tr>\n",
              "      <th>sim</th>\n",
              "      <td>18.481848</td>\n",
              "      <td>32.793522</td>\n",
              "      <td>24.723247</td>\n",
              "    </tr>\n",
              "  </tbody>\n",
              "</table>\n",
              "</div>"
            ],
            "text/plain": [
              "                     Reclamação de Atraso                              \n",
              "Exame                          CREATININA   GLICEMIA HEMOGRAMA COMPLETO\n",
              "Reclamação de Atraso                                                   \n",
              "não                             81.518152  67.206478          75.276753\n",
              "sim                             18.481848  32.793522          24.723247"
            ]
          },
          "metadata": {
            "tags": []
          }
        },
        {
          "output_type": "display_data",
          "data": {
            "text/html": [
              "<div>\n",
              "<style scoped>\n",
              "    .dataframe tbody tr th:only-of-type {\n",
              "        vertical-align: middle;\n",
              "    }\n",
              "\n",
              "    .dataframe tbody tr th {\n",
              "        vertical-align: top;\n",
              "    }\n",
              "\n",
              "    .dataframe thead tr th {\n",
              "        text-align: left;\n",
              "    }\n",
              "\n",
              "    .dataframe thead tr:last-of-type th {\n",
              "        text-align: right;\n",
              "    }\n",
              "</style>\n",
              "<table border=\"1\" class=\"dataframe\">\n",
              "  <thead>\n",
              "    <tr>\n",
              "      <th></th>\n",
              "      <th colspan=\"3\" halign=\"left\">Reclamação de Atraso</th>\n",
              "    </tr>\n",
              "    <tr>\n",
              "      <th>Exame</th>\n",
              "      <th>CREATININA</th>\n",
              "      <th>GLICEMIA</th>\n",
              "      <th>HEMOGRAMA COMPLETO</th>\n",
              "    </tr>\n",
              "    <tr>\n",
              "      <th>Reclamação de Atraso</th>\n",
              "      <th></th>\n",
              "      <th></th>\n",
              "      <th></th>\n",
              "    </tr>\n",
              "  </thead>\n",
              "  <tbody>\n",
              "    <tr>\n",
              "      <th>não</th>\n",
              "      <td>17.706093</td>\n",
              "      <td>23.799283</td>\n",
              "      <td>58.494624</td>\n",
              "    </tr>\n",
              "    <tr>\n",
              "      <th>sim</th>\n",
              "      <td>11.522634</td>\n",
              "      <td>33.333333</td>\n",
              "      <td>55.144033</td>\n",
              "    </tr>\n",
              "  </tbody>\n",
              "</table>\n",
              "</div>"
            ],
            "text/plain": [
              "                     Reclamação de Atraso                              \n",
              "Exame                          CREATININA   GLICEMIA HEMOGRAMA COMPLETO\n",
              "Reclamação de Atraso                                                   \n",
              "não                             17.706093  23.799283          58.494624\n",
              "sim                             11.522634  33.333333          55.144033"
            ]
          },
          "metadata": {
            "tags": []
          }
        },
        {
          "output_type": "stream",
          "text": [
            "(21.732292450725623, 1.9093812555611268e-05, 2, array([[224.71291866, 366.36363636, 803.92344498],\n",
            "       [ 78.28708134, 127.63636364, 280.07655502]]))\n"
          ],
          "name": "stdout"
        },
        {
          "output_type": "display_data",
          "data": {
            "image/png": "[encoded data removed]",
            "text/plain": [
              "<Figure size 432x288 with 1 Axes>"
            ]
          },
          "metadata": {
            "tags": [],
            "needs_background": "light"
          }
        },
        {
          "output_type": "display_data",
          "data": {
            "image/png": "[encoded data removed]",
            "text/plain": [
              "<Figure size 432x288 with 1 Axes>"
            ]
          },
          "metadata": {
            "tags": [],
            "needs_background": "light"
          }
        }
      ]
    },
    {
      "cell_type": "code",
      "metadata": {
        "colab": {
          "base_uri": "https://localhost:8080/"
        },
        "id": "uRyP2iBsssoD",
        "outputId": "4e20f703-8ff0-4081-9cb6-d3ede48adc62"
      },
      "source": [
        "\n",
        "# avaliação se há associação entre variáveis - se uma é ou não dependente da outra (qui-quadrado)\n",
        "import scipy.stats as stats\n",
        "print(stats.chi2_contingency(dados2))\n",
        "\n",
        "# o segundo número (1.909381...e-05) é o valor de p, que é menor que 0,05, que mostra associação positiva entre o atraso e o tipo de exame\n"
      ],
      "execution_count": 44,
      "outputs": [
        {
          "output_type": "stream",
          "text": [
            "(21.732292450725623, 1.9093812555611268e-05, 2, array([[224.71291866, 366.36363636, 803.92344498],\n",
            "       [ 78.28708134, 127.63636364, 280.07655502]]))\n"
          ],
          "name": "stdout"
        }
      ]
    }
  ]
}