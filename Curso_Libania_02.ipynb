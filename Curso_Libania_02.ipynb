{
  "nbformat": 4,
  "nbformat_minor": 0,
  "metadata": {
    "colab": {
      "name": "Curso_Libania-02.ipynb",
      "provenance": [],
      "collapsed_sections": [],
      "authorship_tag": "ABX9TyP+tXx30dn93ILqvbvPAtWb",
      "include_colab_link": true
    },
    "kernelspec": {
      "name": "python3",
      "display_name": "Python 3"
    },
    "language_info": {
      "name": "python"
    }
  },
  "cells": [
    {
      "cell_type": "markdown",
      "metadata": {
        "id": "view-in-github",
        "colab_type": "text"
      },
      "source": [
        "<a href=\"https://colab.research.google.com/github/vptauffer/Ola-Mundo/blob/master/Curso_Libania_02.ipynb\" target=\"_parent\"><img src=\"https://colab.research.google.com/assets/colab-badge.svg\" alt=\"Open In Colab\"/></a>"
      ]
    },
    {
      "cell_type": "code",
      "metadata": {
        "id": "f1_wjmt5l62V",
        "colab": {
          "base_uri": "https://localhost:8080/"
        },
        "outputId": "84a599a7-3b5a-407d-8563-39c46feec7b2"
      },
      "source": [
        "import random\n",
        "x = random.randint(1,11)\n",
        "print(x)"
      ],
      "execution_count": 17,
      "outputs": [
        {
          "output_type": "stream",
          "text": [
            "3\n"
          ],
          "name": "stdout"
        }
      ]
    },
    {
      "cell_type": "code",
      "metadata": {
        "colab": {
          "base_uri": "https://localhost:8080/",
          "height": 669
        },
        "id": "ERA8o1d_v7KY",
        "outputId": "bfb0d3e1-1b50-4e3c-c13b-85d3c0cb778a"
      },
      "source": [
        "import pandas as pd\n",
        "# Dataframe\n",
        "dados = pd.read_excel(\"http://profalibania.com.br/ds/secao04video03.xlsx\")\n",
        "display(dados)\n"
      ],
      "execution_count": 21,
      "outputs": [
        {
          "output_type": "display_data",
          "data": {
            "text/html": [
              "<div>\n",
              "<style scoped>\n",
              "    .dataframe tbody tr th:only-of-type {\n",
              "        vertical-align: middle;\n",
              "    }\n",
              "\n",
              "    .dataframe tbody tr th {\n",
              "        vertical-align: top;\n",
              "    }\n",
              "\n",
              "    .dataframe thead th {\n",
              "        text-align: right;\n",
              "    }\n",
              "</style>\n",
              "<table border=\"1\" class=\"dataframe\">\n",
              "  <thead>\n",
              "    <tr style=\"text-align: right;\">\n",
              "      <th></th>\n",
              "      <th>Data</th>\n",
              "      <th>Número do prontuário</th>\n",
              "      <th>Dia da semana</th>\n",
              "      <th>Sexo</th>\n",
              "      <th>Idade</th>\n",
              "    </tr>\n",
              "  </thead>\n",
              "  <tbody>\n",
              "    <tr>\n",
              "      <th>0</th>\n",
              "      <td>2025-05-25</td>\n",
              "      <td>190501</td>\n",
              "      <td>dom</td>\n",
              "      <td>fem</td>\n",
              "      <td>49</td>\n",
              "    </tr>\n",
              "    <tr>\n",
              "      <th>1</th>\n",
              "      <td>2025-05-25</td>\n",
              "      <td>190502</td>\n",
              "      <td>dom</td>\n",
              "      <td>fem</td>\n",
              "      <td>53</td>\n",
              "    </tr>\n",
              "    <tr>\n",
              "      <th>2</th>\n",
              "      <td>2025-05-25</td>\n",
              "      <td>190503</td>\n",
              "      <td>dom</td>\n",
              "      <td>masc</td>\n",
              "      <td>35</td>\n",
              "    </tr>\n",
              "    <tr>\n",
              "      <th>3</th>\n",
              "      <td>2025-05-25</td>\n",
              "      <td>190504</td>\n",
              "      <td>dom</td>\n",
              "      <td>fem</td>\n",
              "      <td>39</td>\n",
              "    </tr>\n",
              "    <tr>\n",
              "      <th>4</th>\n",
              "      <td>2025-05-25</td>\n",
              "      <td>190505</td>\n",
              "      <td>dom</td>\n",
              "      <td>fem</td>\n",
              "      <td>46</td>\n",
              "    </tr>\n",
              "    <tr>\n",
              "      <th>5</th>\n",
              "      <td>2025-05-25</td>\n",
              "      <td>190506</td>\n",
              "      <td>dom</td>\n",
              "      <td>masc</td>\n",
              "      <td>71</td>\n",
              "    </tr>\n",
              "    <tr>\n",
              "      <th>6</th>\n",
              "      <td>2025-05-25</td>\n",
              "      <td>190507</td>\n",
              "      <td>dom</td>\n",
              "      <td>fem</td>\n",
              "      <td>48</td>\n",
              "    </tr>\n",
              "    <tr>\n",
              "      <th>7</th>\n",
              "      <td>2025-05-25</td>\n",
              "      <td>190508</td>\n",
              "      <td>dom</td>\n",
              "      <td>masc</td>\n",
              "      <td>63</td>\n",
              "    </tr>\n",
              "    <tr>\n",
              "      <th>8</th>\n",
              "      <td>2025-05-25</td>\n",
              "      <td>190509</td>\n",
              "      <td>dom</td>\n",
              "      <td>fem</td>\n",
              "      <td>69</td>\n",
              "    </tr>\n",
              "    <tr>\n",
              "      <th>9</th>\n",
              "      <td>2025-05-26</td>\n",
              "      <td>190510</td>\n",
              "      <td>seg</td>\n",
              "      <td>fem</td>\n",
              "      <td>60</td>\n",
              "    </tr>\n",
              "    <tr>\n",
              "      <th>10</th>\n",
              "      <td>2025-05-26</td>\n",
              "      <td>190511</td>\n",
              "      <td>seg</td>\n",
              "      <td>masc</td>\n",
              "      <td>33</td>\n",
              "    </tr>\n",
              "    <tr>\n",
              "      <th>11</th>\n",
              "      <td>2025-05-26</td>\n",
              "      <td>190512</td>\n",
              "      <td>seg</td>\n",
              "      <td>fem</td>\n",
              "      <td>50</td>\n",
              "    </tr>\n",
              "    <tr>\n",
              "      <th>12</th>\n",
              "      <td>2025-05-26</td>\n",
              "      <td>190513</td>\n",
              "      <td>seg</td>\n",
              "      <td>fem</td>\n",
              "      <td>57</td>\n",
              "    </tr>\n",
              "    <tr>\n",
              "      <th>13</th>\n",
              "      <td>2025-05-26</td>\n",
              "      <td>190514</td>\n",
              "      <td>seg</td>\n",
              "      <td>masc</td>\n",
              "      <td>35</td>\n",
              "    </tr>\n",
              "    <tr>\n",
              "      <th>14</th>\n",
              "      <td>2025-05-26</td>\n",
              "      <td>190515</td>\n",
              "      <td>seg</td>\n",
              "      <td>masc</td>\n",
              "      <td>53</td>\n",
              "    </tr>\n",
              "    <tr>\n",
              "      <th>15</th>\n",
              "      <td>2025-05-26</td>\n",
              "      <td>190516</td>\n",
              "      <td>seg</td>\n",
              "      <td>fem</td>\n",
              "      <td>33</td>\n",
              "    </tr>\n",
              "    <tr>\n",
              "      <th>16</th>\n",
              "      <td>2025-05-27</td>\n",
              "      <td>190517</td>\n",
              "      <td>ter</td>\n",
              "      <td>fem</td>\n",
              "      <td>37</td>\n",
              "    </tr>\n",
              "    <tr>\n",
              "      <th>17</th>\n",
              "      <td>2025-05-27</td>\n",
              "      <td>190518</td>\n",
              "      <td>ter</td>\n",
              "      <td>fem</td>\n",
              "      <td>65</td>\n",
              "    </tr>\n",
              "    <tr>\n",
              "      <th>18</th>\n",
              "      <td>2025-05-27</td>\n",
              "      <td>190519</td>\n",
              "      <td>ter</td>\n",
              "      <td>masc</td>\n",
              "      <td>57</td>\n",
              "    </tr>\n",
              "    <tr>\n",
              "      <th>19</th>\n",
              "      <td>2025-05-27</td>\n",
              "      <td>190520</td>\n",
              "      <td>ter</td>\n",
              "      <td>fem</td>\n",
              "      <td>49</td>\n",
              "    </tr>\n",
              "  </tbody>\n",
              "</table>\n",
              "</div>"
            ],
            "text/plain": [
              "         Data  Número do prontuário Dia da semana  Sexo  Idade\n",
              "0  2025-05-25                190501           dom   fem     49\n",
              "1  2025-05-25                190502           dom   fem     53\n",
              "2  2025-05-25                190503           dom  masc     35\n",
              "3  2025-05-25                190504           dom   fem     39\n",
              "4  2025-05-25                190505           dom   fem     46\n",
              "5  2025-05-25                190506           dom  masc     71\n",
              "6  2025-05-25                190507           dom   fem     48\n",
              "7  2025-05-25                190508           dom  masc     63\n",
              "8  2025-05-25                190509           dom   fem     69\n",
              "9  2025-05-26                190510           seg   fem     60\n",
              "10 2025-05-26                190511           seg  masc     33\n",
              "11 2025-05-26                190512           seg   fem     50\n",
              "12 2025-05-26                190513           seg   fem     57\n",
              "13 2025-05-26                190514           seg  masc     35\n",
              "14 2025-05-26                190515           seg  masc     53\n",
              "15 2025-05-26                190516           seg   fem     33\n",
              "16 2025-05-27                190517           ter   fem     37\n",
              "17 2025-05-27                190518           ter   fem     65\n",
              "18 2025-05-27                190519           ter  masc     57\n",
              "19 2025-05-27                190520           ter   fem     49"
            ]
          },
          "metadata": {
            "tags": []
          }
        }
      ]
    },
    {
      "cell_type": "code",
      "metadata": {
        "colab": {
          "base_uri": "https://localhost:8080/",
          "height": 374
        },
        "id": "IbvmKp79xTSC",
        "outputId": "0afbbbc0-47e7-4ca3-8d2e-5e2b4166fa61"
      },
      "source": [
        "display(dados['Número do prontuário'])"
      ],
      "execution_count": 22,
      "outputs": [
        {
          "output_type": "display_data",
          "data": {
            "text/plain": [
              "0     190501\n",
              "1     190502\n",
              "2     190503\n",
              "3     190504\n",
              "4     190505\n",
              "5     190506\n",
              "6     190507\n",
              "7     190508\n",
              "8     190509\n",
              "9     190510\n",
              "10    190511\n",
              "11    190512\n",
              "12    190513\n",
              "13    190514\n",
              "14    190515\n",
              "15    190516\n",
              "16    190517\n",
              "17    190518\n",
              "18    190519\n",
              "19    190520\n",
              "Name: Número do prontuário, dtype: int64"
            ]
          },
          "metadata": {
            "tags": []
          }
        }
      ]
    },
    {
      "cell_type": "code",
      "metadata": {
        "colab": {
          "base_uri": "https://localhost:8080/"
        },
        "id": "cZhcPmU4ynFU",
        "outputId": "e399a9ea-9ce1-4c51-f825-32a6895ca4b9"
      },
      "source": [
        "a = 10\n",
        "b = 15\n",
        "c = 10\n",
        "print (a>b)\n",
        "print (a<b)\n",
        "\n",
        "print (a == b) #para poder comparar 2 variáveis\n",
        "print (a ==c)\n",
        "print (a != b)  # comparação negativa"
      ],
      "execution_count": 27,
      "outputs": [
        {
          "output_type": "stream",
          "text": [
            "False\n",
            "True\n",
            "False\n",
            "True\n",
            "True\n"
          ],
          "name": "stdout"
        }
      ]
    },
    {
      "cell_type": "code",
      "metadata": {
        "colab": {
          "base_uri": "https://localhost:8080/"
        },
        "id": "vizOJzqNzaBm",
        "outputId": "2130c71b-1eb8-44c8-d6e4-3d2c9ac573fe"
      },
      "source": [
        "import pandas as pd\n",
        "dados = pd.read_excel(\"http://profalibania.com.br/ds/secao04video03.xlsx\")\n",
        "\n",
        "print(len(dados))  # quantas linhas de dados tem\n",
        "\n",
        "soFem = dados[dados['Sexo'] == 'fem']\n",
        "print(len(soFem))"
      ],
      "execution_count": 37,
      "outputs": [
        {
          "output_type": "stream",
          "text": [
            "20\n",
            "13\n"
          ],
          "name": "stdout"
        }
      ]
    }
  ]
}